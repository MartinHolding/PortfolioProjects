{
 "cells": [
  {
   "cell_type": "markdown",
   "metadata": {},
   "source": [
    "# U.S. Medical Insurance Costs"
   ]
  },
  {
   "cell_type": "markdown",
   "metadata": {},
   "source": [
    "This portfolio project is an open ended project working with the medical insurance costs database from Codecademy. There were no specific requirments for this project, I was provided only with a csv file of data and a blank Jupyter Notebook. I am going to view the data and decide appropriate questions for analysis utilising the skills I have developed so far on the course, alongside my existing knowledge. \n",
    "\n",
    "My main question is how and if insurance charges vary across the regions (north east, north west, south east and south west). I also intend to investigate how BMI influences this and whether there are differences in BMI across the four regions.  "
   ]
  },
  {
   "cell_type": "markdown",
   "metadata": {},
   "source": [
    "<h3>Imports and data viewing </h3>"
   ]
  },
  {
   "cell_type": "code",
   "execution_count": 54,
   "metadata": {},
   "outputs": [],
   "source": [
    "import pandas as pd\n",
    "import numpy as np\n",
    "import math \n",
    "from matplotlib import pyplot as plt\n",
    "from scipy import stats\n",
    "\n",
    "data = pd.read_csv('insurance.csv')\n",
    "data.head()\n",
    "\n",
    "#Break down the data frame into columns so I can turn it into a class\n",
    "ages = data['age']\n",
    "sexs = data['sex']\n",
    "bmis = data['bmi']\n",
    "children = data['children']\n",
    "smoker = data['smoker']\n",
    "region = data['region']\n",
    "charges = data['charges']\n"
   ]
  },
  {
   "cell_type": "markdown",
   "metadata": {},
   "source": [
    "<h3> Create a Class </h3> "
   ]
  },
  {
   "cell_type": "code",
   "execution_count": 133,
   "metadata": {},
   "outputs": [],
   "source": [
    "# Define a class which makes an object for all the data and assigns methods\n",
    "class All_Patients:\n",
    "    #Constructor functions\n",
    "    def __init__(self, age, sex, bmi, num_of_children, smoker, region, charges): #These should be lists of data\n",
    "        self.age = age\n",
    "        self.sex = sex\n",
    "        self.bmi = bmi\n",
    "        self.num_of_children = num_of_children\n",
    "        self.smoker = smoker\n",
    "        self.region = region\n",
    "        self.charges = charges\n",
    "    def categorise_bmi(self):\n",
    "        #updates object with bmi categoriesed into bmi categories\n",
    "        bmi_category = []\n",
    "        for bmi_val in self.bmi:\n",
    "            if bmi_val <= 18.5:\n",
    "                bmi_category.append('Underweight')\n",
    "            elif bmi_val <=24.9:\n",
    "                bmi_category.append('Healthy Weight')\n",
    "            elif bmi_val <=29.9:\n",
    "                bmi_category.append('Overweight')\n",
    "            else:\n",
    "                bmi_category.append('Obese')\n",
    "        bmi_category = pd.Series(bmi_category) # convert to series type\n",
    "        self.bmi_category = bmi_category\n",
    "    #Descriptive analyses functions\n",
    "    def average_age(self):\n",
    "        #returns average age of data\n",
    "        return self.age.mean()\n",
    "    def average_charge(self):\n",
    "        #returns average charges of data\n",
    "        return self.charges.mean()\n",
    "    def average_bmi(self):\n",
    "        #returns average bmi of data\n",
    "        return self.bmi.mean()\n",
    "    def average_charge_by_region(self):\n",
    "        #Returns a dictionary of the average cost of insurance in each region\n",
    "        unique_regions = self.region.unique()\n",
    "        region_averages = {}\n",
    "        for regions in unique_regions:\n",
    "            idxs = self.region[self.region == regions].index\n",
    "            charges = self.charges[idxs]\n",
    "            region_averages[regions] = charges.mean()\n",
    "        return region_averages\n",
    "    def bmi_across_regions(self):\n",
    "        #returns a dictionary of counts of each bmi category in each region\n",
    "        unique_regions = self.region.unique()\n",
    "        unique_bmi_cats = self.bmi_category.unique()\n",
    "        region_bmi_counts = {}\n",
    "        for regions in unique_regions:\n",
    "            region_idx= self.region[self.region == regions].index #get row index for each region\n",
    "            bmi_counts = {} # empty list for bmi counts\n",
    "            for category in unique_bmi_cats:\n",
    "                idxs = self.region.iloc[region_idx][self.bmi_category == category].index # indexes for each category within region\n",
    "                bmi_counts[category] = (len(idxs))\n",
    "            region_bmi_counts[regions] = bmi_counts\n",
    "        return region_bmi_counts\n",
    "    \n",
    "#Create instance of All_Patients class    \n",
    "all_patients = All_Patients(ages, sexs, bmis, children, smoker, region, charges)"
   ]
  },
  {
   "cell_type": "markdown",
   "metadata": {},
   "source": [
    "<h3>Basic descriptive analyses </h3>"
   ]
  },
  {
   "cell_type": "code",
   "execution_count": 53,
   "metadata": {
    "scrolled": true
   },
   "outputs": [
    {
     "name": "stdout",
     "output_type": "stream",
     "text": [
      "Average age of dataset is: 39.20702541106129\n",
      "Average BMI of dataset is: 30.663396860986538\n",
      "Average charge of dataset is: $13270.422265141257\n"
     ]
    }
   ],
   "source": [
    "#First let's look at some basic descriptives\n",
    "average_age = all_patients.average_age()\n",
    "print('Average age of dataset is: {age}'.format(age = average_age))\n",
    "average_bmi = all_patients.average_bmi()\n",
    "print('Average BMI of dataset is: {bmi}'.format(bmi = average_bmi))\n",
    "average_charge = all_patients.average_charge()\n",
    "print('Average charge of dataset is: ${charge}'.format(charge = average_charge))"
   ]
  },
  {
   "cell_type": "markdown",
   "metadata": {},
   "source": [
    "<h3>Analyse cost across regions</h3>"
   ]
  },
  {
   "cell_type": "code",
   "execution_count": 61,
   "metadata": {},
   "outputs": [
    {
     "name": "stdout",
     "output_type": "stream",
     "text": [
      "{'southwest': 12346.93737729231, 'southeast': 14735.411437609895, 'northwest': 12417.575373969228, 'northeast': 13406.3845163858}\n"
     ]
    },
    {
     "data": {
      "text/plain": [
       "Text(0, 0.5, 'Average Insurance Cost')"
      ]
     },
     "execution_count": 61,
     "metadata": {},
     "output_type": "execute_result"
    },
    {
     "data": {
      "image/png": "[encoded data removed]",
      "text/plain": [
       "<Figure size 432x288 with 1 Axes>"
      ]
     },
     "metadata": {
      "needs_background": "light"
     },
     "output_type": "display_data"
    }
   ],
   "source": [
    "charges_by_region = all_patients.average_charge_by_region()\n",
    "x = range(len(charges_by_region))\n",
    "plt.bar(x, charges_by_region.values())\n",
    "plt.xticks(x, charges_by_region.keys())\n",
    "plt.xlabel('Region')\n",
    "plt.ylabel('Average Insurance Cost')"
   ]
  },
  {
   "cell_type": "markdown",
   "metadata": {},
   "source": [
    "Average insurance costs appear to be higher in the south east than in than in the other regions. Now I'm going to run an Krukall-Wallis to see if this difference is significant."
   ]
  },
  {
   "cell_type": "code",
   "execution_count": 81,
   "metadata": {},
   "outputs": [
    {
     "data": {
      "text/plain": [
       "(4.734181215658743, 0.19232908072121002)"
      ]
     },
     "execution_count": 81,
     "metadata": {},
     "output_type": "execute_result"
    }
   ],
   "source": [
    "#Run an kruskall-wallis test to see if the differences are significant - first I need to get each regions data\n",
    "northeast = all_patients.charges[all_patients.region=='northeast']\n",
    "northwest = all_patients.charges[all_patients.region=='northwest']\n",
    "southeast = all_patients.charges[all_patients.region=='southeast']\n",
    "southwest = all_patients.charges[all_patients.region=='southwest']\n",
    "\n",
    "s, p = stats.kruskal(northeast, northwest, southeast, southwest)\n",
    "s, p"
   ]
  },
  {
   "cell_type": "markdown",
   "metadata": {},
   "source": [
    "Unfortunately we don't see a significant difference (<em> p = 0.19 </em>) between the four regions in terms of how much they are paying for their insurance. However, it would still be interesting to see if there are demographic differences between the regions. First, analyse the BMI across the regions. "
   ]
  },
  {
   "cell_type": "markdown",
   "metadata": {},
   "source": [
    "<h3>Categorise BMI</h3>"
   ]
  },
  {
   "cell_type": "code",
   "execution_count": 134,
   "metadata": {},
   "outputs": [],
   "source": [
    "#add bmi_category to object by calling my categorise_bmi method\n",
    "all_patients.categorise_bmi()"
   ]
  },
  {
   "cell_type": "markdown",
   "metadata": {},
   "source": [
    "<h3> Analyse bmi_category across regions </h3>"
   ]
  },
  {
   "cell_type": "code",
   "execution_count": 159,
   "metadata": {
    "scrolled": true
   },
   "outputs": [
    {
     "name": "stdout",
     "output_type": "stream",
     "text": [
      "[[31.076923076923073, 53.230769230769226, 14.461538461538462, 1.2307692307692308], [20.604395604395602, 68.4065934065934, 10.989010989010989, 0.0], [32.61538461538461, 46.15384615384615, 19.076923076923077, 2.1538461538461537], [30.246913580246915, 44.44444444444444, 22.22222222222222, 3.0864197530864197]]\n"
     ]
    },
    {
     "data": {
      "text/plain": [
       "Text(0.5, 1.0, 'North East')"
      ]
     },
     "execution_count": 159,
     "metadata": {},
     "output_type": "execute_result"
    },
    {
     "data": {
      "image/png": "[encoded data removed]",
      "text/plain": [
       "<Figure size 432x288 with 4 Axes>"
      ]
     },
     "metadata": {},
     "output_type": "display_data"
    }
   ],
   "source": [
    "#Call my bmi_across_regions method to get counts of the bmi categories across each region\n",
    "\n",
    "bmi_counts = all_patients.bmi_across_regions()\n",
    "\n",
    "#Calculate percentage of total population in each region in each bmi category\n",
    "bmi_percents = []\n",
    "for region_key in bmi_counts:\n",
    "    total = 0\n",
    "    percentage = []\n",
    "    for bmi_key in bmi_counts[region_key]:\n",
    "        total = sum(bmi_counts[region_key].values())\n",
    "        percentage.append(bmi_counts[region_key][bmi_key]/total*100)\n",
    "    bmi_percents.append(percentage)\n",
    "\n",
    "#create pie charts for the percentages\n",
    "labels = ['Overweight', 'Obese', 'Healthy Weight', 'Underweight']\n",
    "title_labels = ['South West', 'South East', 'North West', 'North East']\n",
    "fig, axs = plt.subplots(2, 2) #create a 2x2 subplot grid\n",
    "\n",
    "axs[0,0].pie(bmi_percents[0], labels=labels, autopct='%1.1f%%', shadow=True)\n",
    "axs[0,0].set_title(title_labels[0])\n",
    "axs[0,1].pie(bmi_percents[1], labels=labels, autopct='%1.1f%%', shadow=True)\n",
    "axs[0,1].set_title(title_labels[1])\n",
    "axs[1,0].pie(bmi_percents[2], labels=labels, autopct='%1.1f%%', shadow=True)\n",
    "axs[1,0].set_title(title_labels[2])\n",
    "axs[1,1].pie(bmi_percents[3], labels=labels, autopct='%1.1f%%', shadow=True)\n",
    "axs[1,1].set_title(title_labels[3])\n",
    "\n"
   ]
  },
  {
   "cell_type": "markdown",
   "metadata": {},
   "source": [
    "The largest category of people in all the groups is 'Obese', and these account for more than half the people in the southern regions. The south east also has the highest percentage of obese people and the lowest number of healthy weight individuals. This may be an influence on why the south east tended to have higher insurance costs (although this was not significantly greater than the other regions) as we know that BMI is a contributing factor when calculating insurance costs. "
   ]
  }
 ],
 "metadata": {
  "kernelspec": {
   "display_name": "Python 3",
   "language": "python",
   "name": "python3"
  },
  "language_info": {
   "codemirror_mode": {
    "name": "ipython",
    "version": 3
   },
   "file_extension": ".py",
   "mimetype": "text/x-python",
   "name": "python",
   "nbconvert_exporter": "python",
   "pygments_lexer": "ipython3",
   "version": "3.8.3"
  }
 },
 "nbformat": 4,
 "nbformat_minor": 4
}
